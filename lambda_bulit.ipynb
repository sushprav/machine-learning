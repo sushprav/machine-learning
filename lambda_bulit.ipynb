{
  "nbformat": 4,
  "nbformat_minor": 0,
  "metadata": {
    "colab": {
      "provenance": []
    },
    "kernelspec": {
      "name": "python3",
      "display_name": "Python 3"
    },
    "language_info": {
      "name": "python"
    }
  },
  "cells": [
    {
      "cell_type": "code",
      "execution_count": null,
      "metadata": {
        "id": "_K3XhEI_AKhf"
      },
      "outputs": [],
      "source": []
    },
    {
      "cell_type": "markdown",
      "source": [
        "Lambda Function:\n",
        "lambda arguments:expression"
      ],
      "metadata": {
        "id": "snSctiSfAUR5"
      }
    },
    {
      "cell_type": "code",
      "source": [
        "#program to add number 4 to the given num\n",
        "add=lambda num:num+4\n",
        "print(add(5))"
      ],
      "metadata": {
        "colab": {
          "base_uri": "https://localhost:8080/"
        },
        "id": "70TSeki_AhEw",
        "outputId": "7d22de43-ea1f-4c60-86bb-0cf13758eb95"
      },
      "execution_count": 1,
      "outputs": [
        {
          "output_type": "stream",
          "name": "stdout",
          "text": [
            "9\n"
          ]
        }
      ]
    },
    {
      "cell_type": "code",
      "source": [
        "multi=lambda num1,num2:num1*num2\n",
        "print(multi(5,6))"
      ],
      "metadata": {
        "colab": {
          "base_uri": "https://localhost:8080/"
        },
        "id": "zf2-RktrAtxu",
        "outputId": "82b51eb3-b274-44a1-cd68-45f25fcae854"
      },
      "execution_count": 2,
      "outputs": [
        {
          "output_type": "stream",
          "name": "stdout",
          "text": [
            "30\n"
          ]
        }
      ]
    },
    {
      "cell_type": "code",
      "source": [
        "a=lambda num1,num2,num3:num1+num2+num3\n",
        "print(a(5,6,7))"
      ],
      "metadata": {
        "colab": {
          "base_uri": "https://localhost:8080/"
        },
        "id": "UHSerbKIA6z4",
        "outputId": "f99c4c35-2d97-414f-fefd-bbc68ac48c1b"
      },
      "execution_count": 4,
      "outputs": [
        {
          "output_type": "stream",
          "name": "stdout",
          "text": [
            "18\n"
          ]
        }
      ]
    },
    {
      "cell_type": "code",
      "source": [
        "#diffrenec between def and lambda\n",
        "def reciprocal(num):\n",
        "  return 1/num\n",
        "print(reciprocal(4))"
      ],
      "metadata": {
        "colab": {
          "base_uri": "https://localhost:8080/"
        },
        "id": "VQKG2jCeBMiQ",
        "outputId": "0568824e-c8eb-4625-d238-22f4c08111b9"
      },
      "execution_count": 5,
      "outputs": [
        {
          "output_type": "stream",
          "name": "stdout",
          "text": [
            "0.25\n"
          ]
        }
      ]
    },
    {
      "cell_type": "code",
      "source": [
        "b=lambda num:1/num\n",
        "print(b(4))"
      ],
      "metadata": {
        "colab": {
          "base_uri": "https://localhost:8080/"
        },
        "id": "kzwwGr3UBnTL",
        "outputId": "c150146a-5d87-4189-fa58-55b21f8b92a8"
      },
      "execution_count": 6,
      "outputs": [
        {
          "output_type": "stream",
          "name": "stdout",
          "text": [
            "0.25\n"
          ]
        }
      ]
    },
    {
      "cell_type": "code",
      "source": [
        "#lambda function jusing if else\n",
        "#program to print even or odd number using the lambda\n",
        "even_odd=lambda num:'even' if num%2==0 else 'odd'\n",
        "print(even_odd(5))"
      ],
      "metadata": {
        "colab": {
          "base_uri": "https://localhost:8080/"
        },
        "id": "3bH4sYVTBt6P",
        "outputId": "80f1b675-2b62-4500-d93c-95744c116f51"
      },
      "execution_count": 7,
      "outputs": [
        {
          "output_type": "stream",
          "name": "stdout",
          "text": [
            "odd\n"
          ]
        }
      ]
    },
    {
      "cell_type": "code",
      "source": [
        "#program to find minimum number of two\n",
        "min=lambda num1,num2:num1 if num1<num2 else num2\n",
        "print(min(5,6))"
      ],
      "metadata": {
        "id": "_EYHn22RCdPC"
      },
      "execution_count": null,
      "outputs": []
    },
    {
      "cell_type": "code",
      "source": [
        "num=2\n",
        "if num%2==0:\n",
        "  print('even')\n",
        "else:\n",
        "  print('odd')\n",
        ""
      ],
      "metadata": {
        "colab": {
          "base_uri": "https://localhost:8080/"
        },
        "id": "EVzj5i-DCxvn",
        "outputId": "fe624b0b-4ae5-4203-bd67-2ca6c7b193d2"
      },
      "execution_count": 8,
      "outputs": [
        {
          "output_type": "stream",
          "name": "stdout",
          "text": [
            "even\n"
          ]
        }
      ]
    },
    {
      "cell_type": "code",
      "source": [
        "#lambda using for loop\n",
        "l1=[1,2,3,4,5]\n",
        "l2=[]\n",
        "for i in l1:\n",
        "  temp=lambda i: i**2\n",
        "  l2.append(temp(i))\n",
        "print(l2)\n",
        ""
      ],
      "metadata": {
        "colab": {
          "base_uri": "https://localhost:8080/"
        },
        "id": "ygHV_-WsDJo4",
        "outputId": "5e710420-6a60-404f-ba92-99d813fb39d3"
      },
      "execution_count": 14,
      "outputs": [
        {
          "output_type": "stream",
          "name": "stdout",
          "text": [
            "[1, 4, 9, 16, 25]\n"
          ]
        }
      ]
    },
    {
      "cell_type": "code",
      "source": [
        "#####built in functions\n",
        "###which are already defined whose functionality also already defined\n"
      ],
      "metadata": {
        "id": "E26mP8EdDh_v"
      },
      "execution_count": null,
      "outputs": []
    },
    {
      "cell_type": "code",
      "source": [
        "abs()"
      ],
      "metadata": {
        "id": "WRh4ZeLPEpsl"
      },
      "execution_count": null,
      "outputs": []
    },
    {
      "cell_type": "markdown",
      "source": [
        "1.abs()\n",
        "2.all()\n",
        "3.bin()\n",
        "4.bool()\n",
        "5.bytes()\n",
        "6.callable()\n",
        "7.compile()\n",
        "8.exec()\n",
        "9.sum()\n",
        "10.any()\n",
        "11.ascii()\n",
        "12.bytearray()\n",
        "13.eval()\n",
        "14.float()\n",
        "15.format()\n",
        "16.frozenset()\n",
        "17.getattr()\n",
        "18.globals()\n",
        "19.iter()\n",
        "20.len()\n",
        "21.list()\n",
        "22.set()\n",
        "23.map()\n",
        "\n",
        "\n"
      ],
      "metadata": {
        "id": "DdFb4JPPElgy"
      }
    },
    {
      "cell_type": "code",
      "source": [
        "k=[1,2,3,4,5]\n",
        "print(all(k))"
      ],
      "metadata": {
        "colab": {
          "base_uri": "https://localhost:8080/"
        },
        "id": "oaSyVuXyFk-a",
        "outputId": "95987ada-eb77-48fd-dc67-bfb2052721a5"
      },
      "execution_count": 15,
      "outputs": [
        {
          "output_type": "stream",
          "name": "stdout",
          "text": [
            "True\n"
          ]
        }
      ]
    },
    {
      "cell_type": "code",
      "source": [
        "k=[1,0,2,3,4]\n",
        "print(all(k))\n"
      ],
      "metadata": {
        "colab": {
          "base_uri": "https://localhost:8080/"
        },
        "id": "BIvkp47DFruD",
        "outputId": "911acebc-1082-40a6-f516-eb7339cc5917"
      },
      "execution_count": 17,
      "outputs": [
        {
          "output_type": "stream",
          "name": "stdout",
          "text": [
            "False\n"
          ]
        }
      ]
    },
    {
      "cell_type": "code",
      "source": [
        "#bin\n",
        "x=10\n",
        "print(bin(x))"
      ],
      "metadata": {
        "colab": {
          "base_uri": "https://localhost:8080/"
        },
        "id": "uPoGfeDGFzxL",
        "outputId": "94efe777-3a47-463c-a009-f9ca1b4f306a"
      },
      "execution_count": 18,
      "outputs": [
        {
          "output_type": "stream",
          "name": "stdout",
          "text": [
            "0b1010\n"
          ]
        }
      ]
    },
    {
      "cell_type": "code",
      "source": [
        "##bool\n",
        "test1=[True]\n",
        "print(test1,'is',bool(test1))"
      ],
      "metadata": {
        "colab": {
          "base_uri": "https://localhost:8080/"
        },
        "id": "w820CjeAF_WN",
        "outputId": "1edbae52-e5af-419d-8df1-687c89d1dc10"
      },
      "execution_count": 20,
      "outputs": [
        {
          "output_type": "stream",
          "name": "stdout",
          "text": [
            "[True] is True\n"
          ]
        }
      ]
    },
    {
      "cell_type": "code",
      "source": [
        "### bytes\n",
        "str=\"Hello World\"\n",
        "print(bytes(str,'utf-8'))"
      ],
      "metadata": {
        "colab": {
          "base_uri": "https://localhost:8080/"
        },
        "id": "h8st7OuaGP2H",
        "outputId": "84ba04bb-45d3-436f-8c95-302119ef0708"
      },
      "execution_count": 22,
      "outputs": [
        {
          "output_type": "stream",
          "name": "stdout",
          "text": [
            "b'Hello World'\n"
          ]
        }
      ]
    },
    {
      "cell_type": "code",
      "source": [
        "#xcallable\n",
        "x=10\n",
        "print(callable(x))\n"
      ],
      "metadata": {
        "colab": {
          "base_uri": "https://localhost:8080/"
        },
        "id": "72W3QwZCGdbX",
        "outputId": "9c0e8638-9995-4006-b637-811f57895e12"
      },
      "execution_count": 24,
      "outputs": [
        {
          "output_type": "stream",
          "name": "stdout",
          "text": [
            "False\n"
          ]
        }
      ]
    },
    {
      "cell_type": "code",
      "source": [
        "#sum\n",
        "s=[1,2,3,4,5]\n",
        "print(sum(s))"
      ],
      "metadata": {
        "colab": {
          "base_uri": "https://localhost:8080/"
        },
        "id": "oulV_pXOGoXW",
        "outputId": "24c5163c-bfb4-47ce-a8f4-86b2231c946d"
      },
      "execution_count": 25,
      "outputs": [
        {
          "output_type": "stream",
          "name": "stdout",
          "text": [
            "15\n"
          ]
        }
      ]
    },
    {
      "cell_type": "code",
      "source": [
        "#eval\n",
        "x=8\n",
        "print(eval('x+3'))"
      ],
      "metadata": {
        "colab": {
          "base_uri": "https://localhost:8080/"
        },
        "id": "IvxN2i6dG_Dx",
        "outputId": "6720ed9b-707d-46b7-a029-fcdfa8928f12"
      },
      "execution_count": 26,
      "outputs": [
        {
          "output_type": "stream",
          "name": "stdout",
          "text": [
            "11\n"
          ]
        }
      ]
    },
    {
      "cell_type": "code",
      "source": [
        "###map_____applying any given function to each item list\n",
        "\n",
        "def add(a,b):\n",
        "  return a+b\n",
        "a=16\n",
        "b=15\n",
        "print(add(a,b))\n"
      ],
      "metadata": {
        "colab": {
          "base_uri": "https://localhost:8080/"
        },
        "id": "Ev2V2HcKHZpz",
        "outputId": "3fa91f6f-e31c-46b2-935d-de69588dd2ee"
      },
      "execution_count": 29,
      "outputs": [
        {
          "output_type": "stream",
          "name": "stdout",
          "text": [
            "31\n"
          ]
        }
      ]
    },
    {
      "cell_type": "code",
      "source": [
        "def add(n):\n",
        "  return n+n\n",
        "l1=[1,2,3,4,5]\n",
        "result=map(add,l1)\n",
        "print(list(result))\n"
      ],
      "metadata": {
        "colab": {
          "base_uri": "https://localhost:8080/"
        },
        "id": "EJ3oV-lwIB2m",
        "outputId": "5f039e6d-5651-4b16-b797-3d071a1602f8"
      },
      "execution_count": 31,
      "outputs": [
        {
          "output_type": "stream",
          "name": "stdout",
          "text": [
            "[2, 4, 6, 8, 10]\n"
          ]
        }
      ]
    },
    {
      "cell_type": "code",
      "source": [
        "l1=[1,2,3,4,5]\n",
        "result=map(lambda n:n+n,l1)\n",
        "print(list(result))"
      ],
      "metadata": {
        "colab": {
          "base_uri": "https://localhost:8080/"
        },
        "id": "JUIfbNIfIcU_",
        "outputId": "4a8f584e-2774-4210-bd04-f8cd24a9ec0a"
      },
      "execution_count": 32,
      "outputs": [
        {
          "output_type": "stream",
          "name": "stdout",
          "text": [
            "[2, 4, 6, 8, 10]\n"
          ]
        }
      ]
    },
    {
      "cell_type": "code",
      "source": [],
      "metadata": {
        "id": "wPpPFXTdJCM8"
      },
      "execution_count": null,
      "outputs": []
    }
  ]
}